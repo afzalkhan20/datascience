{
 "cells": [
  {
   "cell_type": "code",
   "execution_count": 1,
   "metadata": {},
   "outputs": [
    {
     "name": "stderr",
     "output_type": "stream",
     "text": [
      "randomForest 4.6-12\n",
      "Type rfNews() to see new features/changes/bug fixes.\n",
      "Loading required package: lattice\n",
      "Loading required package: ggplot2\n",
      "\n",
      "Attaching package: ‘ggplot2’\n",
      "\n",
      "The following object is masked from ‘package:randomForest’:\n",
      "\n",
      "    margin\n",
      "\n"
     ]
    }
   ],
   "source": [
    "library(randomForest)\n",
    "library(caret)\n",
    "library(Metrics)"
   ]
  },
  {
   "cell_type": "code",
   "execution_count": 2,
   "metadata": {},
   "outputs": [
    {
     "data": {
      "text/html": [
       "<table>\n",
       "<thead><tr><th scope=col>checking_balance</th><th scope=col>months_loan_duration</th><th scope=col>credit_history</th><th scope=col>purpose</th><th scope=col>amount</th><th scope=col>savings_balance</th><th scope=col>employment_duration</th><th scope=col>percent_of_income</th><th scope=col>years_at_residence</th><th scope=col>age</th><th scope=col>other_credit</th><th scope=col>housing</th><th scope=col>existing_loans_count</th><th scope=col>job</th><th scope=col>dependents</th><th scope=col>phone</th><th scope=col>default</th></tr></thead>\n",
       "<tbody>\n",
       "\t<tr><td><span style=white-space:pre-wrap>&lt; 0 DM    </span> </td><td> 6                                                    </td><td>critical                                              </td><td>furniture/appliances                                  </td><td>1169                                                  </td><td>unknown                                               </td><td><span style=white-space:pre-wrap>&gt; 7 years  </span></td><td>4                                                     </td><td>4                                                     </td><td>67                                                    </td><td>none                                                  </td><td><span style=white-space:pre-wrap>own  </span>         </td><td>2                                                     </td><td><span style=white-space:pre-wrap>skilled  </span>     </td><td>1                                                     </td><td>yes                                                   </td><td>no                                                    </td></tr>\n",
       "\t<tr><td>1 - 200 DM                                       </td><td>48                                               </td><td><span style=white-space:pre-wrap>good    </span> </td><td>furniture/appliances                             </td><td>5951                                             </td><td>&lt; 100 DM                                      </td><td>1 - 4 years                                      </td><td>2                                                </td><td>2                                                </td><td>22                                               </td><td>none                                             </td><td><span style=white-space:pre-wrap>own  </span>    </td><td>1                                                </td><td><span style=white-space:pre-wrap>skilled  </span></td><td>1                                                </td><td>no                                               </td><td>yes                                              </td></tr>\n",
       "\t<tr><td><span style=white-space:pre-wrap>unknown   </span>          </td><td>12                                                          </td><td>critical                                                    </td><td><span style=white-space:pre-wrap>education           </span></td><td>2096                                                        </td><td>&lt; 100 DM                                                 </td><td>4 - 7 years                                                 </td><td>2                                                           </td><td>3                                                           </td><td>49                                                          </td><td>none                                                        </td><td><span style=white-space:pre-wrap>own  </span>               </td><td>1                                                           </td><td>unskilled                                                   </td><td>2                                                           </td><td>no                                                          </td><td>no                                                          </td></tr>\n",
       "\t<tr><td><span style=white-space:pre-wrap>&lt; 0 DM    </span></td><td>42                                                   </td><td><span style=white-space:pre-wrap>good    </span>     </td><td>furniture/appliances                                 </td><td>7882                                                 </td><td>&lt; 100 DM                                          </td><td>4 - 7 years                                          </td><td>2                                                    </td><td>4                                                    </td><td>45                                                   </td><td>none                                                 </td><td>other                                                </td><td>1                                                    </td><td><span style=white-space:pre-wrap>skilled  </span>    </td><td>2                                                    </td><td>no                                                   </td><td>no                                                   </td></tr>\n",
       "\t<tr><td><span style=white-space:pre-wrap>&lt; 0 DM    </span>       </td><td>24                                                          </td><td><span style=white-space:pre-wrap>poor    </span>            </td><td><span style=white-space:pre-wrap>car                 </span></td><td>4870                                                        </td><td>&lt; 100 DM                                                 </td><td>1 - 4 years                                                 </td><td>3                                                           </td><td>4                                                           </td><td>53                                                          </td><td>none                                                        </td><td>other                                                       </td><td>2                                                           </td><td><span style=white-space:pre-wrap>skilled  </span>           </td><td>2                                                           </td><td>no                                                          </td><td>yes                                                         </td></tr>\n",
       "\t<tr><td>unknown             </td><td>36                  </td><td>good                </td><td>education           </td><td>9055                </td><td>unknown             </td><td>1 - 4 years         </td><td>2                   </td><td>4                   </td><td>35                  </td><td>none                </td><td>other               </td><td>1                   </td><td>unskilled           </td><td>2                   </td><td>yes                 </td><td>no                  </td></tr>\n",
       "</tbody>\n",
       "</table>\n"
      ],
      "text/latex": [
       "\\begin{tabular}{r|lllllllllllllllll}\n",
       " checking\\_balance & months\\_loan\\_duration & credit\\_history & purpose & amount & savings\\_balance & employment\\_duration & percent\\_of\\_income & years\\_at\\_residence & age & other\\_credit & housing & existing\\_loans\\_count & job & dependents & phone & default\\\\\n",
       "\\hline\n",
       "\t < 0 DM               &  6                   & critical             & furniture/appliances & 1169                 & unknown              & > 7 years            & 4                    & 4                    & 67                   & none                 & own                  & 2                    & skilled              & 1                    & yes                  & no                  \\\\\n",
       "\t 1 - 200 DM           & 48                   & good                 & furniture/appliances & 5951                 & < 100 DM             & 1 - 4 years          & 2                    & 2                    & 22                   & none                 & own                  & 1                    & skilled              & 1                    & no                   & yes                 \\\\\n",
       "\t unknown              & 12                   & critical             & education            & 2096                 & < 100 DM             & 4 - 7 years          & 2                    & 3                    & 49                   & none                 & own                  & 1                    & unskilled            & 2                    & no                   & no                  \\\\\n",
       "\t < 0 DM               & 42                   & good                 & furniture/appliances & 7882                 & < 100 DM             & 4 - 7 years          & 2                    & 4                    & 45                   & none                 & other                & 1                    & skilled              & 2                    & no                   & no                  \\\\\n",
       "\t < 0 DM               & 24                   & poor                 & car                  & 4870                 & < 100 DM             & 1 - 4 years          & 3                    & 4                    & 53                   & none                 & other                & 2                    & skilled              & 2                    & no                   & yes                 \\\\\n",
       "\t unknown              & 36                   & good                 & education            & 9055                 & unknown              & 1 - 4 years          & 2                    & 4                    & 35                   & none                 & other                & 1                    & unskilled            & 2                    & yes                  & no                  \\\\\n",
       "\\end{tabular}\n"
      ],
      "text/markdown": [
       "\n",
       "checking_balance | months_loan_duration | credit_history | purpose | amount | savings_balance | employment_duration | percent_of_income | years_at_residence | age | other_credit | housing | existing_loans_count | job | dependents | phone | default | \n",
       "|---|---|---|---|---|---|\n",
       "| < 0 DM               |  6                   | critical             | furniture/appliances | 1169                 | unknown              | > 7 years            | 4                    | 4                    | 67                   | none                 | own                  | 2                    | skilled              | 1                    | yes                  | no                   | \n",
       "| 1 - 200 DM           | 48                   | good                 | furniture/appliances | 5951                 | < 100 DM             | 1 - 4 years          | 2                    | 2                    | 22                   | none                 | own                  | 1                    | skilled              | 1                    | no                   | yes                  | \n",
       "| unknown              | 12                   | critical             | education            | 2096                 | < 100 DM             | 4 - 7 years          | 2                    | 3                    | 49                   | none                 | own                  | 1                    | unskilled            | 2                    | no                   | no                   | \n",
       "| < 0 DM               | 42                   | good                 | furniture/appliances | 7882                 | < 100 DM             | 4 - 7 years          | 2                    | 4                    | 45                   | none                 | other                | 1                    | skilled              | 2                    | no                   | no                   | \n",
       "| < 0 DM               | 24                   | poor                 | car                  | 4870                 | < 100 DM             | 1 - 4 years          | 3                    | 4                    | 53                   | none                 | other                | 2                    | skilled              | 2                    | no                   | yes                  | \n",
       "| unknown              | 36                   | good                 | education            | 9055                 | unknown              | 1 - 4 years          | 2                    | 4                    | 35                   | none                 | other                | 1                    | unskilled            | 2                    | yes                  | no                   | \n",
       "\n",
       "\n"
      ],
      "text/plain": [
       "  checking_balance months_loan_duration credit_history purpose             \n",
       "1 < 0 DM            6                   critical       furniture/appliances\n",
       "2 1 - 200 DM       48                   good           furniture/appliances\n",
       "3 unknown          12                   critical       education           \n",
       "4 < 0 DM           42                   good           furniture/appliances\n",
       "5 < 0 DM           24                   poor           car                 \n",
       "6 unknown          36                   good           education           \n",
       "  amount savings_balance employment_duration percent_of_income\n",
       "1 1169   unknown         > 7 years           4                \n",
       "2 5951   < 100 DM        1 - 4 years         2                \n",
       "3 2096   < 100 DM        4 - 7 years         2                \n",
       "4 7882   < 100 DM        4 - 7 years         2                \n",
       "5 4870   < 100 DM        1 - 4 years         3                \n",
       "6 9055   unknown         1 - 4 years         2                \n",
       "  years_at_residence age other_credit housing existing_loans_count job      \n",
       "1 4                  67  none         own     2                    skilled  \n",
       "2 2                  22  none         own     1                    skilled  \n",
       "3 3                  49  none         own     1                    unskilled\n",
       "4 4                  45  none         other   1                    skilled  \n",
       "5 4                  53  none         other   2                    skilled  \n",
       "6 4                  35  none         other   1                    unskilled\n",
       "  dependents phone default\n",
       "1 1          yes   no     \n",
       "2 1          no    yes    \n",
       "3 2          no    no     \n",
       "4 2          no    no     \n",
       "5 2          no    yes    \n",
       "6 2          yes   no     "
      ]
     },
     "metadata": {},
     "output_type": "display_data"
    }
   ],
   "source": [
    "# reading data file ~ credit.csv \n",
    "# taken from https://archive.ics.uci.edu/ml/datasets/Statlog+%28German+Credit+Data%29\n",
    "\n",
    "# credit.csv is composed of qualitative and quantitative variables.\n",
    "# For this exercise we will focus on all of the features\n",
    "\n",
    "creditsub <- read.csv(file = 'data/credit.csv', \n",
    "                      header = T)\n",
    "\n",
    "# Let's take a look at the dataframe\n",
    "head(creditsub)"
   ]
  },
  {
   "cell_type": "code",
   "execution_count": 3,
   "metadata": {
    "collapsed": true
   },
   "outputs": [],
   "source": [
    "# Let's split the data into train and test\n",
    "\n",
    "# Setting seed for reproducible train and test partitions\n",
    "set.seed(123)\n",
    "\n",
    "smp_size <- floor(0.75 * nrow(creditsub))\n",
    "\n",
    "train_ind <- sample(seq_len(nrow(creditsub)), size = smp_size)\n",
    "\n",
    "credit_train <- creditsub[train_ind, ]\n",
    "\n",
    "credit_test <- creditsub[-train_ind, ]"
   ]
  },
  {
   "cell_type": "code",
   "execution_count": 4,
   "metadata": {},
   "outputs": [
    {
     "name": "stdout",
     "output_type": "stream",
     "text": [
      "\n",
      "Call:\n",
      " randomForest(formula = default ~ ., data = credit_train) \n",
      "               Type of random forest: classification\n",
      "                     Number of trees: 500\n",
      "No. of variables tried at each split: 4\n",
      "\n",
      "        OOB estimate of  error rate: 24.93%\n",
      "Confusion matrix:\n",
      "     no yes class.error\n",
      "no  474  51  0.09714286\n",
      "yes 136  89  0.60444444\n"
     ]
    }
   ],
   "source": [
    "credit_model <- randomForest(formula = default ~ ., \n",
    "                             data = credit_train)\n",
    "                           \n",
    "print(credit_model)"
   ]
  },
  {
   "cell_type": "markdown",
   "metadata": {},
   "source": [
    "Let's look at OOB estimate closely."
   ]
  },
  {
   "cell_type": "code",
   "execution_count": 5,
   "metadata": {},
   "outputs": [
    {
     "data": {
      "text/html": [
       "<table>\n",
       "<thead><tr><th scope=col>OOB</th><th scope=col>no</th><th scope=col>yes</th></tr></thead>\n",
       "<tbody>\n",
       "\t<tr><td>0.3655914</td><td>0.2741117</td><td>0.5853659</td></tr>\n",
       "\t<tr><td>0.3881579</td><td>0.2866044</td><td>0.6296296</td></tr>\n",
       "\t<tr><td>0.3871528</td><td>0.2892157</td><td>0.6250000</td></tr>\n",
       "\t<tr><td>0.3740340</td><td>0.2922078</td><td>0.5783784</td></tr>\n",
       "\t<tr><td>0.3629738</td><td>0.2695473</td><td>0.5900000</td></tr>\n",
       "\t<tr><td>0.3408135</td><td>0.2480159</td><td>0.5645933</td></tr>\n",
       "</tbody>\n",
       "</table>\n"
      ],
      "text/latex": [
       "\\begin{tabular}{lll}\n",
       " OOB & no & yes\\\\\n",
       "\\hline\n",
       "\t 0.3655914 & 0.2741117 & 0.5853659\\\\\n",
       "\t 0.3881579 & 0.2866044 & 0.6296296\\\\\n",
       "\t 0.3871528 & 0.2892157 & 0.6250000\\\\\n",
       "\t 0.3740340 & 0.2922078 & 0.5783784\\\\\n",
       "\t 0.3629738 & 0.2695473 & 0.5900000\\\\\n",
       "\t 0.3408135 & 0.2480159 & 0.5645933\\\\\n",
       "\\end{tabular}\n"
      ],
      "text/markdown": [
       "\n",
       "OOB | no | yes | \n",
       "|---|---|---|---|---|---|\n",
       "| 0.3655914 | 0.2741117 | 0.5853659 | \n",
       "| 0.3881579 | 0.2866044 | 0.6296296 | \n",
       "| 0.3871528 | 0.2892157 | 0.6250000 | \n",
       "| 0.3740340 | 0.2922078 | 0.5783784 | \n",
       "| 0.3629738 | 0.2695473 | 0.5900000 | \n",
       "| 0.3408135 | 0.2480159 | 0.5645933 | \n",
       "\n",
       "\n"
      ],
      "text/plain": [
       "     OOB       no        yes      \n",
       "[1,] 0.3655914 0.2741117 0.5853659\n",
       "[2,] 0.3881579 0.2866044 0.6296296\n",
       "[3,] 0.3871528 0.2892157 0.6250000\n",
       "[4,] 0.3740340 0.2922078 0.5783784\n",
       "[5,] 0.3629738 0.2695473 0.5900000\n",
       "[6,] 0.3408135 0.2480159 0.5645933"
      ]
     },
     "metadata": {},
     "output_type": "display_data"
    },
    {
     "data": {
      "text/html": [
       "<strong>OOB:</strong> 0.249333333333333"
      ],
      "text/latex": [
       "\\textbf{OOB:} 0.249333333333333"
      ],
      "text/markdown": [
       "**OOB:** 0.249333333333333"
      ],
      "text/plain": [
       "      OOB \n",
       "0.2493333 "
      ]
     },
     "metadata": {},
     "output_type": "display_data"
    }
   ],
   "source": [
    "# OOB error matrix\n",
    "err <- credit_model$err.rate\n",
    "\n",
    "head(err)\n",
    "\n",
    "# Look at final OOB error rate (last row in err matrix)\n",
    "(oob_err <- err[nrow(err), \"OOB\"])"
   ]
  },
  {
   "cell_type": "code",
   "execution_count": 6,
   "metadata": {},
   "outputs": [
    {
     "data": {
      "image/png": "[encoded data removed]",
      "text/plain": [
       "Plot with title “credit_model”"
      ]
     },
     "metadata": {},
     "output_type": "display_data"
    }
   ],
   "source": [
    "# Let's plot the model trained above\n",
    "plot(credit_model)\n",
    "\n",
    "# Adding a legend is a must :D\n",
    "legend(x = \"right\", \n",
    "       legend = colnames(err),\n",
    "       fill = 1:ncol(err))"
   ]
  },
  {
   "cell_type": "markdown",
   "metadata": {},
   "source": [
    "OOB is not discussed here because it was discussed in the notebook on bagged trees."
   ]
  },
  {
   "cell_type": "markdown",
   "metadata": {},
   "source": [
    "Let's evaluate model performance on a test set\n",
    "\n"
   ]
  },
  {
   "cell_type": "code",
   "execution_count": 7,
   "metadata": {},
   "outputs": [
    {
     "name": "stdout",
     "output_type": "stream",
     "text": [
      "Confusion Matrix and Statistics\n",
      "\n",
      "          Reference\n",
      "Prediction  no yes\n",
      "       no  165  47\n",
      "       yes  10  28\n",
      "                                          \n",
      "               Accuracy : 0.772           \n",
      "                 95% CI : (0.7149, 0.8225)\n",
      "    No Information Rate : 0.7             \n",
      "    P-Value [Acc > NIR] : 0.006807        \n",
      "                                          \n",
      "                  Kappa : 0.3681          \n",
      " Mcnemar's Test P-Value : 1.858e-06       \n",
      "                                          \n",
      "            Sensitivity : 0.9429          \n",
      "            Specificity : 0.3733          \n",
      "         Pos Pred Value : 0.7783          \n",
      "         Neg Pred Value : 0.7368          \n",
      "             Prevalence : 0.7000          \n",
      "         Detection Rate : 0.6600          \n",
      "   Detection Prevalence : 0.8480          \n",
      "      Balanced Accuracy : 0.6581          \n",
      "                                          \n",
      "       'Positive' Class : no              \n",
      "                                          \n"
     ]
    }
   ],
   "source": [
    "# Let's test the model\n",
    "class_prediction <- predict(object = credit_model,\n",
    "                            newdata = credit_test,\n",
    "                            type = \"class\") # return classification labels\n",
    "                            \n",
    "# The confusion matrix for the test set\n",
    "cm <- confusionMatrix(data = class_prediction,       \n",
    "                      reference = credit_test$default)\n",
    "print(cm)"
   ]
  },
  {
   "cell_type": "code",
   "execution_count": 8,
   "metadata": {},
   "outputs": [
    {
     "data": {
      "text/html": [
       "'Test Accuracy: 0.772'"
      ],
      "text/latex": [
       "'Test Accuracy: 0.772'"
      ],
      "text/markdown": [
       "'Test Accuracy: 0.772'"
      ],
      "text/plain": [
       "[1] \"Test Accuracy: 0.772\""
      ]
     },
     "metadata": {},
     "output_type": "display_data"
    },
    {
     "data": {
      "text/html": [
       "'OOB Accuracy: 0.750666666666667'"
      ],
      "text/latex": [
       "'OOB Accuracy: 0.750666666666667'"
      ],
      "text/markdown": [
       "'OOB Accuracy: 0.750666666666667'"
      ],
      "text/plain": [
       "[1] \"OOB Accuracy: 0.750666666666667\""
      ]
     },
     "metadata": {},
     "output_type": "display_data"
    }
   ],
   "source": [
    "# Let's compare test set accuracy to OOB accuracy\n",
    "paste0(\"Test Accuracy: \", cm$overall[1])\n",
    "paste0(\"OOB Accuracy: \", 1 - oob_err)"
   ]
  },
  {
   "cell_type": "markdown",
   "metadata": {},
   "source": [
    "Test accuracy and OOB accuracy are close enough. OOB gives a generic idea about the performance of the model."
   ]
  },
  {
   "cell_type": "code",
   "execution_count": 9,
   "metadata": {},
   "outputs": [
    {
     "data": {
      "text/html": [
       "0.228"
      ],
      "text/latex": [
       "0.228"
      ],
      "text/markdown": [
       "0.228"
      ],
      "text/plain": [
       "[1] 0.228"
      ]
     },
     "metadata": {},
     "output_type": "display_data"
    }
   ],
   "source": [
    "# Let's check the model accuracy with another metrics: classification error\n",
    "(ce(actual = credit_test$default, \n",
    "   predicted = class_prediction))"
   ]
  },
  {
   "cell_type": "code",
   "execution_count": 10,
   "metadata": {},
   "outputs": [
    {
     "data": {
      "text/html": [
       "0.815961904761905"
      ],
      "text/latex": [
       "0.815961904761905"
      ],
      "text/markdown": [
       "0.815961904761905"
      ],
      "text/plain": [
       "[1] 0.8159619"
      ]
     },
     "metadata": {},
     "output_type": "display_data"
    }
   ],
   "source": [
    "# Another famous metric is AUC/ROC. Let's calculate AUC of the predicted model.\n",
    "\n",
    "# For that to happen we need to generate predictions on the test set\n",
    "pred <- predict(object = credit_model,\n",
    "            newdata = credit_test,\n",
    "            type = \"prob\")\n",
    "\n",
    "                \n",
    "# And now compute the AUC\n",
    "auc(actual = ifelse(credit_test$default == \"yes\", 1, 0), \n",
    "    predicted = pred[,\"yes\"])   "
   ]
  },
  {
   "cell_type": "markdown",
   "metadata": {},
   "source": [
    "Like any machine learning algo, to achieve the best model tune the hyperparameters of the model.\n",
    "Let's do that. Some of the key hyperparameters we are going to play with are:\n",
    "1. ntrees - number of trees. Default is 500.\n",
    "2. mtry - number of variables choosen as candidates to train at each split. Default is sqrt(total input features)\n",
    "3. sampsize - number of samples to train on. Default to 63.2%\n",
    "\n",
    "There are two other important parameters but we won't cover them here.\n",
    "1. nodesize - minimum size of the terminal nodes, helps in controlling the complexity.\n",
    "Lesser the nodesize -> more complex the tree.\n",
    "2. maxnodes - maximum number of terminal nodes, helps in controlling the complexity and in\n",
    "avoiding overfitting. "
   ]
  },
  {
   "cell_type": "markdown",
   "metadata": {},
   "source": [
    "The most important of the hyperparameters is mtry. Let's fix that first."
   ]
  },
  {
   "cell_type": "code",
   "execution_count": 11,
   "metadata": {},
   "outputs": [
    {
     "name": "stdout",
     "output_type": "stream",
     "text": [
      "mtry = 4  OOB error = 24.27% \n",
      "Searching left ...\n",
      "mtry = 2 \tOOB error = 25.33% \n",
      "-0.04395604 0.05 \n",
      "Searching right ...\n",
      "mtry = 8 \tOOB error = 24.8% \n",
      "-0.02197802 0.05 \n",
      "      mtry  OOBError\n",
      "2.OOB    2 0.2533333\n",
      "4.OOB    4 0.2426667\n",
      "8.OOB    8 0.2480000\n"
     ]
    },
    {
     "data": {
      "image/png": "[encoded data removed]",
      "text/plain": [
       "plot without title"
      ]
     },
     "metadata": {},
     "output_type": "display_data"
    }
   ],
   "source": [
    "# Let's start the tuning process    \n",
    "res <- tuneRF(x = subset(credit_train, select = -default),\n",
    "              y = credit_train$default,\n",
    "              ntreeTry = 500)\n",
    "               \n",
    "# Look at results\n",
    "print(res)"
   ]
  },
  {
   "cell_type": "code",
   "execution_count": 12,
   "metadata": {},
   "outputs": [
    {
     "name": "stdout",
     "output_type": "stream",
     "text": [
      "4.OOB \n",
      "    4 \n"
     ]
    }
   ],
   "source": [
    "# Find the mtry value that minimizes OOB Error\n",
    "mtry_opt <- res[,\"mtry\"][which.min(res[,\"OOBError\"])]\n",
    "print(mtry_opt)"
   ]
  },
  {
   "cell_type": "markdown",
   "metadata": {},
   "source": [
    "Therefore the best mtry value is 1."
   ]
  },
  {
   "cell_type": "markdown",
   "metadata": {},
   "source": [
    "Previously, we trained mtry using the tune function provided by randomForest. However,\n",
    "let's tune it using a grid of all possible combinations."
   ]
  },
  {
   "cell_type": "code",
   "execution_count": 13,
   "metadata": {},
   "outputs": [
    {
     "data": {
      "text/html": [
       "9"
      ],
      "text/latex": [
       "9"
      ],
      "text/markdown": [
       "9"
      ],
      "text/plain": [
       "[1] 9"
      ]
     },
     "metadata": {},
     "output_type": "display_data"
    },
    {
     "name": "stdout",
     "output_type": "stream",
     "text": [
      "  mtry nodesize sampsize\n",
      "9   10        5      525\n"
     ]
    }
   ],
   "source": [
    "# Setting seed for reproducible train and test partitions\n",
    "set.seed(123)\n",
    "\n",
    "# List of possible values for mtry, nodesize and sampsize\n",
    "mtry <- seq(4, ncol(credit_train) * 0.8, 2)\n",
    "nodesize <- seq(3, 8, 2)\n",
    "sampsize <- nrow(credit_train) * c(0.7, 0.8)\n",
    "\n",
    "# Create a data frame containing all combinations \n",
    "hyper_grid <- expand.grid(mtry = mtry, nodesize = nodesize, sampsize = sampsize)\n",
    "\n",
    "# Create an empty vector to store OOB error values and model\n",
    "oob_err <- c()\n",
    "model_vec <- list()\n",
    "\n",
    "# Loop over the rows of hyper_grid to train the grid of models\n",
    "for (i in 1:nrow(hyper_grid)) {\n",
    "\n",
    "    model <- randomForest(formula = default ~ ., \n",
    "                          data = credit_train,\n",
    "                          mtry = hyper_grid$mtry[i],\n",
    "                          nodesize = hyper_grid$nodesize[i],\n",
    "                          sampsize = hyper_grid$sampsize[i])\n",
    "                          \n",
    "    # Store OOB error for the model                      \n",
    "    oob_err[i] <- model$err.rate[nrow(model$err.rate), \"OOB\"]\n",
    "    model_vec[[i]] <- model\n",
    "}\n",
    "\n",
    "# Identify optimal set of hyperparmeters based on OOB error\n",
    "(opt_i <- which.min(oob_err))\n",
    "print(hyper_grid[opt_i,])"
   ]
  },
  {
   "cell_type": "code",
   "execution_count": 14,
   "metadata": {},
   "outputs": [
    {
     "data": {
      "text/plain": [
       "\n",
       "Call:\n",
       " randomForest(formula = default ~ ., data = credit_train, mtry = hyper_grid$mtry[i],      nodesize = hyper_grid$nodesize[i], sampsize = hyper_grid$sampsize[i]) \n",
       "               Type of random forest: classification\n",
       "                     Number of trees: 500\n",
       "No. of variables tried at each split: 10\n",
       "\n",
       "        OOB estimate of  error rate: 23.47%\n",
       "Confusion matrix:\n",
       "     no yes class.error\n",
       "no  475  50   0.0952381\n",
       "yes 126  99   0.5600000"
      ]
     },
     "metadata": {},
     "output_type": "display_data"
    }
   ],
   "source": [
    "model_vec[[9]] #best model"
   ]
  },
  {
   "cell_type": "markdown",
   "metadata": {},
   "source": [
    "VOILA! Mission accomplished. Let's check out the results of our final model on the\n",
    "test dataset."
   ]
  },
  {
   "cell_type": "code",
   "execution_count": 15,
   "metadata": {},
   "outputs": [
    {
     "name": "stdout",
     "output_type": "stream",
     "text": [
      "Confusion Matrix and Statistics\n",
      "\n",
      "          Reference\n",
      "Prediction  no yes\n",
      "       no  161  47\n",
      "       yes  14  28\n",
      "                                          \n",
      "               Accuracy : 0.756           \n",
      "                 95% CI : (0.6979, 0.8079)\n",
      "    No Information Rate : 0.7             \n",
      "    P-Value [Acc > NIR] : 0.02945         \n",
      "                                          \n",
      "                  Kappa : 0.3355          \n",
      " Mcnemar's Test P-Value : 4.182e-05       \n",
      "                                          \n",
      "            Sensitivity : 0.9200          \n",
      "            Specificity : 0.3733          \n",
      "         Pos Pred Value : 0.7740          \n",
      "         Neg Pred Value : 0.6667          \n",
      "             Prevalence : 0.7000          \n",
      "         Detection Rate : 0.6440          \n",
      "   Detection Prevalence : 0.8320          \n",
      "      Balanced Accuracy : 0.6467          \n",
      "                                          \n",
      "       'Positive' Class : no              \n",
      "                                          \n"
     ]
    }
   ],
   "source": [
    "class_prediction <- predict(object = model_vec[[9]],\n",
    "                            newdata = credit_test,\n",
    "                            type = \"class\") # return classification labels\n",
    "                            \n",
    "# The confusion matrix for the test set\n",
    "cm <- confusionMatrix(data = class_prediction,       \n",
    "                      reference = credit_test$default)\n",
    "print(cm)"
   ]
  },
  {
   "cell_type": "code",
   "execution_count": null,
   "metadata": {
    "collapsed": true
   },
   "outputs": [],
   "source": []
  },
  {
   "cell_type": "code",
   "execution_count": null,
   "metadata": {
    "collapsed": true
   },
   "outputs": [],
   "source": []
  },
  {
   "cell_type": "code",
   "execution_count": null,
   "metadata": {
    "collapsed": true
   },
   "outputs": [],
   "source": []
  },
  {
   "cell_type": "code",
   "execution_count": null,
   "metadata": {
    "collapsed": true
   },
   "outputs": [],
   "source": []
  }
 ],
 "metadata": {
  "kernelspec": {
   "display_name": "R",
   "language": "R",
   "name": "ir"
  },
  "language_info": {
   "codemirror_mode": "r",
   "file_extension": ".r",
   "mimetype": "text/x-r-source",
   "name": "R",
   "pygments_lexer": "r",
   "version": "3.4.3"
  }
 },
 "nbformat": 4,
 "nbformat_minor": 2
}
