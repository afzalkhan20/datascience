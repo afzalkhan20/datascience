{
 "cells": [
  {
   "cell_type": "code",
   "execution_count": 3,
   "metadata": {},
   "outputs": [],
   "source": [
    "import numpy as np\n",
    "import math\n",
    "import matplotlib.pyplot as plt"
   ]
  },
  {
   "cell_type": "code",
   "execution_count": null,
   "metadata": {},
   "outputs": [
    {
     "name": "stdout",
     "output_type": "stream",
     "text": [
      "50\n",
      "50\n",
      "50\n",
      "50\n",
      "10\n",
      "10\n",
      "50\n",
      "50\n",
      "50\n",
      "50\n"
     ]
    }
   ],
   "source": [
    "# x0 = np.linspace(0, 1)\n",
    "x_2 = np.linspace(-3,-2)\n",
    "x_1 = np.linspace(-2, -1)\n",
    "x0 = np.linspace(-1, 1, 10)\n",
    "x1 = np.linspace(1, 2)\n",
    "x2 = np.linspace(2, 4)\n",
    "\n",
    "y_2 = (-2*x_2-6)**2\n",
    "y_1 = (3*x_1+4)**2\n",
    "y0 = (1*x0)/x0\n",
    "y1 = (2*x1-1)**2\n",
    "y2 = (-2.5*x2+8)**2\n",
    "\n",
    "\n",
    "x_ar = [x_2, x_1, x0, x1, x2]\n",
    "y_ar = [y_2, y_1, y0, y1, y2]\n",
    "\n",
    "x = np.array(0)\n",
    "y = np.array(0)\n",
    "\n",
    "for i in range(len(x_ar)):\n",
    "    print len(x_ar[i])\n",
    "    print len(y_ar[i])\n",
    "    x = np.append(x, x_ar[i])\n",
    "    y = np.append(y, y_ar[i])\n",
    "\n",
    "# print x\n",
    "\n",
    "# x = np.append(np.append(x0, x1), x2)\n",
    "# y = np.append(np.append(y0, y1), y2)\n",
    "\n",
    "# x = np.append(x)\n",
    "# print len(x)\n",
    "# print len(y)\n",
    "# z = zip(x,y)\n",
    "\n",
    "# print z\n",
    "\n",
    "plt.plot(x, y)\n",
    "plt.show()"
   ]
  }
 ],
 "metadata": {
  "kernelspec": {
   "display_name": "Python 2",
   "language": "python",
   "name": "python2"
  },
  "language_info": {
   "codemirror_mode": {
    "name": "ipython",
    "version": 2
   },
   "file_extension": ".py",
   "mimetype": "text/x-python",
   "name": "python",
   "nbconvert_exporter": "python",
   "pygments_lexer": "ipython2",
   "version": "2.7.6"
  }
 },
 "nbformat": 4,
 "nbformat_minor": 2
}
