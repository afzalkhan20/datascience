{
 "cells": [
  {
   "cell_type": "markdown",
   "metadata": {},
   "source": [
    "This notebook covers calculating -\n",
    "1. Growth and Rate of Return\n",
    "2. Compound Interest\n",
    "3. Discount Factors and Depreciation\n",
    "4. Present and Future Value\n",
    "5. Adjusting Future Value for Inflation\n",
    "6. NPV\n",
    "7. Discounting Cash Flows\n",
    "8. Initial Project Costs\n",
    "9. Diminishing Cash Flows\n",
    "\n",
    "<b>in Python</b>"
   ]
  },
  {
   "cell_type": "code",
   "execution_count": 1,
   "metadata": {
    "collapsed": true
   },
   "outputs": [],
   "source": [
    "# Import numpy as np\n",
    "import numpy as np"
   ]
  },
  {
   "cell_type": "markdown",
   "metadata": {},
   "source": [
    "Let's start with calculating the future value of our investment."
   ]
  },
  {
   "cell_type": "code",
   "execution_count": 2,
   "metadata": {},
   "outputs": [
    {
     "name": "stdout",
     "output_type": "stream",
     "text": [
      "Investment 1 Value: 134.39\n",
      "Investment 2 Value: 1744.94\n"
     ]
    }
   ],
   "source": [
    "# Let's assume we invest $100 for 10 years in a financial vehichle which gives us\n",
    "# annual rate of 3% \n",
    "initial_value = 100\n",
    "\n",
    "# Calculating the future value for the first investment\n",
    "growth_periods_1 = 10\n",
    "growth_rate_1 = 0.03\n",
    "investment_1 = initial_value*(1+growth_rate_1)**growth_periods_1\n",
    "print(\"Investment 1 Value: \" + str(round(investment_1, 2)))\n",
    "\n",
    "# Let's assume we invest $100 for 30 years in a financial vehichle which gives us\n",
    "# annual rate of 10%\n",
    "growth_periods_2 = 30\n",
    "growth_rate_2 = 0.1\n",
    "investment_2 = initial_value*(1+growth_rate_2)**growth_periods_2\n",
    "print(\"Investment 2 Value: \" + str(round(investment_2, 2)))"
   ]
  },
  {
   "cell_type": "markdown",
   "metadata": {},
   "source": [
    "Previously we did a simple exercise where the compouding period was 1. However, compounding period could be annual,\n",
    "semi-annual, quarterly, monthly or daily. Let's try these variations with the same initial investment."
   ]
  },
  {
   "cell_type": "code",
   "execution_count": 3,
   "metadata": {},
   "outputs": [
    {
     "name": "stdout",
     "output_type": "stream",
     "text": [
      "Investment Compounded Annually: 1744.94\n",
      "Investment Compounded Quarterly: 1935.81\n",
      "Investment Compounder Monthly: 1983.74\n"
     ]
    }
   ],
   "source": [
    "# Investment Definitions\n",
    "initial_value = 100\n",
    "growth_periods = 30\n",
    "growth_rate = 0.1\n",
    "\n",
    "# Calculate the value for the investment compounded once per year\n",
    "compound_periods_1 = 1\n",
    "investment_1 = initial_value*(1+growth_rate/compound_periods_1)**(growth_periods*compound_periods_1)\n",
    "print(\"Investment Compounded Annually: \" + str(round(investment_1, 2)))\n",
    "\n",
    "# Calculate the value for the investment compounded quarterly\n",
    "compound_periods_2 = 4\n",
    "investment_2 = initial_value*(1+growth_rate/compound_periods_2)**(growth_periods*compound_periods_2)\n",
    "print(\"Investment Compounded Quarterly: \" + str(round(investment_2, 2)))\n",
    "\n",
    "# Calculate the value for the investment compounded monthly\n",
    "compound_periods_3 = 12\n",
    "investment_3 = initial_value*(1+growth_rate/compound_periods_3)**(growth_periods*compound_periods_3)\n",
    "print(\"Investment Compounder Monthly: \" + str(round(investment_3, 2)))"
   ]
  },
  {
   "cell_type": "markdown",
   "metadata": {},
   "source": [
    "We make some investments with depreciating return over time. For example when you buy a car then the value of the car depreciates as the time passes by. Let's calculate the value of our initial investment in the future."
   ]
  },
  {
   "cell_type": "code",
   "execution_count": 4,
   "metadata": {},
   "outputs": [
    {
     "name": "stdout",
     "output_type": "stream",
     "text": [
      "Future value: 59.87\n",
      "Discount factor: 1.67\n",
      "Initial value: 100.0\n"
     ]
    }
   ],
   "source": [
    "# Calculating the future value\n",
    "initial_value = 100\n",
    "growth_rate = -0.05\n",
    "growth_periods = 10\n",
    "future_value = initial_value*(1+growth_rate)**growth_periods\n",
    "print(\"Future value: \" + str(round(future_value, 2)))\n",
    "\n",
    "# Calculating the discount factor\n",
    "discount_factor = 1/((1+growth_rate)**growth_periods)\n",
    "print(\"Discount factor: \" + str(round(discount_factor, 2)))\n",
    "\n",
    "# Calculating the initial value of the investment again\n",
    "initial_value_again = future_value*discount_factor\n",
    "print(\"Initial value: \" + str(round(initial_value_again, 2)))"
   ]
  },
  {
   "cell_type": "markdown",
   "metadata": {},
   "source": [
    "We can also use numpy to do present and future value calculations."
   ]
  },
  {
   "cell_type": "code",
   "execution_count": 5,
   "metadata": {},
   "outputs": [
    {
     "name": "stdout",
     "output_type": "stream",
     "text": [
      "$10,000 in future(15 years) is worth 6418.62 in today's dollars\n",
      "$10,000 in future(10 years) is worth 6139.13 in today's dollars\n"
     ]
    }
   ],
   "source": [
    "# Calculating present value given future value of 10,000 with\n",
    "# inflation rate of 3% over 15 years\n",
    "investment_1 = np.pv(rate=0.03, nper=15, pmt=0, fv=10000)\n",
    "\n",
    "# Present value returned is negative, so we multiply the result by -1\n",
    "print(\"$10,000 in future(15 years) is worth \" + \n",
    "      str(round(-investment_1, 2)) + \" in today's dollars\")\n",
    "\n",
    "# Calculating present value with slightly different rate and \n",
    "# period\n",
    "investment_2 = np.pv(rate=0.05, nper=10, pmt=0, fv=10000)\n",
    "print(\"$10,000 in future(10 years) is worth \" + str(round(-investment_2, 2)) + \" in today's dollars\")"
   ]
  },
  {
   "cell_type": "code",
   "execution_count": 6,
   "metadata": {},
   "outputs": [
    {
     "name": "stdout",
     "output_type": "stream",
     "text": [
      "Investment 1 of $10,000 will yield a total of $20789.28 in 15 years\n",
      "Investment 2 of $10,000 will yield a total of $31721.69 in 15 years\n"
     ]
    }
   ],
   "source": [
    "# Let's calculate the future value of an $10000 investment\n",
    "# now. Rate - 0.05, Time - 15 years\n",
    "investment_1 = np.fv(rate=0.05, nper=15, pmt=0, pv=-10000)\n",
    "print(\"Investment 1 of $10,000 will yield a total of $\" + str(round(investment_1, 2)) + \" in 15 years\")\n",
    "\n",
    "# Let's change rate\n",
    "investment_2 = np.fv(rate=0.08, nper=15, pmt=0, pv=-10000)\n",
    "print(\"Investment 2 of $10,000 will yield a total of $\" + str(round(investment_2, 2)) + \" in 15 years\")"
   ]
  },
  {
   "cell_type": "markdown",
   "metadata": {},
   "source": [
    "Let's combine these pieces and adjust future value of an asset for inflation."
   ]
  },
  {
   "cell_type": "code",
   "execution_count": 7,
   "metadata": {},
   "outputs": [
    {
     "name": "stdout",
     "output_type": "stream",
     "text": [
      "Investment of $10,000 will yield a total of $21589.25 in 10 years\n"
     ]
    }
   ],
   "source": [
    "# Let's see if we invest $10,000 for 10 years with a rate of return\n",
    "# of 8% then what will be its future value?\n",
    "investment_1 = np.fv(rate=0.08, nper=10, pmt=0, pv=-10000)\n",
    "print(\"Investment of $10,000 will yield a total of $\" + \n",
    "      str(round(investment_1, 2)) + \" in 10 years\")"
   ]
  },
  {
   "cell_type": "code",
   "execution_count": 8,
   "metadata": {},
   "outputs": [
    {
     "name": "stdout",
     "output_type": "stream",
     "text": [
      "After adjusting for inflation, investment of 10,000 is worth $16064.43 in today's dollars\n"
     ]
    }
   ],
   "source": [
    "# But the amount of $21589 will have different purchasing power\n",
    "# So let's calculate the worth (present value) of the investment\n",
    "# assuming the inflation rate to be 3%\n",
    "investment_1_discounted = np.pv(rate=0.03,\n",
    "                                nper=10,\n",
    "                                pmt=0,\n",
    "                                fv=investment_1)\n",
    "print(\"After adjusting for inflation, investment of 10,000 is worth $\" +\n",
    "      str(round(-investment_1_discounted, 2)) + \" in today's dollars\")"
   ]
  },
  {
   "cell_type": "markdown",
   "metadata": {},
   "source": [
    "Most of the projects are taken up by the company if their cash flow generates positive in flow of money. We can choose between two projects\n",
    "by comparing their net present value."
   ]
  },
  {
   "cell_type": "code",
   "execution_count": 9,
   "metadata": {},
   "outputs": [
    {
     "name": "stdout",
     "output_type": "stream",
     "text": [
      "The net present value of Investment 1 is worth $665.54 in today's dollars\n",
      "The net present value of Investment 2 is worth $346.7 in today's dollars\n"
     ]
    }
   ],
   "source": [
    "# Cash flows for project 1\n",
    "cash_flows_1 = np.array([-250, 100, 200, 300, 400])\n",
    "\n",
    "# Cash flows for project 2\n",
    "cash_flows_2 = np.array([-250, 300, -250, 300, 300])\n",
    "\n",
    "# Calculate the net present value of project 1\n",
    "investment_1 = np.npv(rate=0.03, values=cash_flows_1)\n",
    "print(\"The net present value of Investment 1 is worth $\" +\n",
    "      str(round(investment_1, 2)) + \" in today's dollars\")\n",
    "\n",
    "# Calculate the net present value of project 2\n",
    "investment_2 = np.npv(rate=0.03, values=cash_flows_2)\n",
    "print(\"The net present value of Investment 2 is worth $\" +\n",
    "      str(round(investment_2, 2)) + \" in today's dollars\")"
   ]
  }
 ],
 "metadata": {
  "kernelspec": {
   "display_name": "finance",
   "language": "python",
   "name": "finance"
  },
  "language_info": {
   "codemirror_mode": {
    "name": "ipython",
    "version": 2
   },
   "file_extension": ".py",
   "mimetype": "text/x-python",
   "name": "python",
   "nbconvert_exporter": "python",
   "pygments_lexer": "ipython2",
   "version": "2.7.6"
  }
 },
 "nbformat": 4,
 "nbformat_minor": 2
}
