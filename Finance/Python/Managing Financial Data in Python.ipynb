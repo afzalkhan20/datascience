{
 "cells": [
  {
   "cell_type": "code",
   "execution_count": 1,
   "metadata": {
    "scrolled": true
   },
   "outputs": [],
   "source": [
    "import pandas as pd\n",
    "# Import DataReader\n",
    "from pandas_datareader.data import DataReader, FredReader\n",
    "# Import date\n",
    "from datetime import date\n",
    "# Import matplotlib.pyplot\n",
    "import matplotlib.pyplot as plt\n",
    "from fredapi import Fred\n",
    "fred = Fred(api_key='insert-your-api-key-here')"
   ]
  },
  {
   "cell_type": "code",
   "execution_count": 2,
   "metadata": {},
   "outputs": [
    {
     "name": "stdout",
     "output_type": "stream",
     "text": [
      "  Stock Symbol           Company Name  Last Sale  Market Capitalization  \\\n",
      "0         AAPL             Apple Inc.     141.05           7.400000e+11   \n",
      "1        GOOGL          Alphabet Inc.     840.18           5.810000e+11   \n",
      "2         GOOG          Alphabet Inc.     823.56           5.690000e+11   \n",
      "3         MSFT  Microsoft Corporation      64.95           5.020000e+11   \n",
      "4         AMZN       Amazon.com, Inc.     884.67           4.220000e+11   \n",
      "\n",
      "   IPO Year             Sector  \\\n",
      "0    1980.0         Technology   \n",
      "1       NaN         Technology   \n",
      "2    2004.0         Technology   \n",
      "3    1986.0         Technology   \n",
      "4    1997.0  Consumer Services   \n",
      "\n",
      "                                          Industry Last Update  \n",
      "0                           Computer Manufacturing  2017-04-26  \n",
      "1  Computer Software: Programming, Data Processing  2017-04-24  \n",
      "2  Computer Software: Programming, Data Processing  2017-04-23  \n",
      "3          Computer Software: Prepackaged Software  2017-04-26  \n",
      "4                   Catalog/Specialty Distribution  2017-04-24  \n"
     ]
    }
   ],
   "source": [
    "# Import the data\n",
    "nasdaq = pd.read_csv('data/nasdaq-listings.csv', na_values='NAN', parse_dates=['Last Update'])\n",
    "\n",
    "# Let's look at the nasdaq dataframe\n",
    "print(nasdaq.head())"
   ]
  },
  {
   "cell_type": "code",
   "execution_count": 3,
   "metadata": {},
   "outputs": [
    {
     "name": "stdout",
     "output_type": "stream",
     "text": [
      "<class 'pandas.core.frame.DataFrame'>\n",
      "RangeIndex: 1115 entries, 0 to 1114\n",
      "Data columns (total 8 columns):\n",
      "Stock Symbol             1115 non-null object\n",
      "Company Name             1115 non-null object\n",
      "Last Sale                1115 non-null float64\n",
      "Market Capitalization    1115 non-null float64\n",
      "IPO Year                 593 non-null float64\n",
      "Sector                   1036 non-null object\n",
      "Industry                 1036 non-null object\n",
      "Last Update              1115 non-null datetime64[ns]\n",
      "dtypes: datetime64[ns](1), float64(3), object(4)\n",
      "memory usage: 69.8+ KB\n"
     ]
    }
   ],
   "source": [
    "# Inspecting the data\n",
    "nasdaq.info()"
   ]
  },
  {
   "cell_type": "code",
   "execution_count": 4,
   "metadata": {},
   "outputs": [
    {
     "name": "stdout",
     "output_type": "stream",
     "text": [
      "  Stock Symbol            Company Name  Last Sale  Market Capitalization  \\\n",
      "0          DDD  3D Systems Corporation      14.48           1.647165e+09   \n",
      "1          MMM              3M Company     188.65           1.127366e+11   \n",
      "2         WBAI         500.com Limited      13.96           5.793129e+08   \n",
      "3         WUBA             58.com Inc.      36.11           5.225238e+09   \n",
      "4          AHC   A.H. Belo Corporation       6.20           1.347351e+08   \n",
      "\n",
      "   IPO Year             Sector  \\\n",
      "0       NaN         Technology   \n",
      "1       NaN        Health Care   \n",
      "2    2013.0  Consumer Services   \n",
      "3    2013.0         Technology   \n",
      "4       NaN  Consumer Services   \n",
      "\n",
      "                                          Industry  \n",
      "0          Computer Software: Prepackaged Software  \n",
      "1                       Medical/Dental Instruments  \n",
      "2            Services-Misc. Amusement & Recreation  \n",
      "3  Computer Software: Programming, Data Processing  \n",
      "4                             Newspapers/Magazines  \n"
     ]
    }
   ],
   "source": [
    "# Let's read another dataframe from an excel file\n",
    "\n",
    "# Here we will read only a single sheet 'nyse' from\n",
    "# the file.\n",
    "nyse = pd.read_excel('data/listings.xlsx', sheet_name='nyse', na_values='n/a')\n",
    "\n",
    "# Display the head of the data\n",
    "print(nyse.head())"
   ]
  },
  {
   "cell_type": "code",
   "execution_count": 5,
   "metadata": {},
   "outputs": [
    {
     "data": {
      "text/html": [
       "<div>\n",
       "<style scoped>\n",
       "    .dataframe tbody tr th:only-of-type {\n",
       "        vertical-align: middle;\n",
       "    }\n",
       "\n",
       "    .dataframe tbody tr th {\n",
       "        vertical-align: top;\n",
       "    }\n",
       "\n",
       "    .dataframe thead th {\n",
       "        text-align: right;\n",
       "    }\n",
       "</style>\n",
       "<table border=\"1\" class=\"dataframe\">\n",
       "  <thead>\n",
       "    <tr style=\"text-align: right;\">\n",
       "      <th></th>\n",
       "      <th>Company Name</th>\n",
       "      <th>Exchange</th>\n",
       "      <th>IPO Year</th>\n",
       "      <th>Industry</th>\n",
       "      <th>Last Sale</th>\n",
       "      <th>Last Update</th>\n",
       "      <th>Market Capitalization</th>\n",
       "      <th>Sector</th>\n",
       "      <th>Stock Symbol</th>\n",
       "    </tr>\n",
       "  </thead>\n",
       "  <tbody>\n",
       "    <tr>\n",
       "      <th>0</th>\n",
       "      <td>3D Systems Corporation</td>\n",
       "      <td>NYSE</td>\n",
       "      <td>NaN</td>\n",
       "      <td>Computer Software: Prepackaged Software</td>\n",
       "      <td>14.48</td>\n",
       "      <td>NaT</td>\n",
       "      <td>1.647165e+09</td>\n",
       "      <td>Technology</td>\n",
       "      <td>DDD</td>\n",
       "    </tr>\n",
       "    <tr>\n",
       "      <th>1</th>\n",
       "      <td>3M Company</td>\n",
       "      <td>NYSE</td>\n",
       "      <td>NaN</td>\n",
       "      <td>Medical/Dental Instruments</td>\n",
       "      <td>188.65</td>\n",
       "      <td>NaT</td>\n",
       "      <td>1.127366e+11</td>\n",
       "      <td>Health Care</td>\n",
       "      <td>MMM</td>\n",
       "    </tr>\n",
       "    <tr>\n",
       "      <th>2</th>\n",
       "      <td>500.com Limited</td>\n",
       "      <td>NYSE</td>\n",
       "      <td>2013.0</td>\n",
       "      <td>Services-Misc. Amusement &amp; Recreation</td>\n",
       "      <td>13.96</td>\n",
       "      <td>NaT</td>\n",
       "      <td>5.793129e+08</td>\n",
       "      <td>Consumer Services</td>\n",
       "      <td>WBAI</td>\n",
       "    </tr>\n",
       "    <tr>\n",
       "      <th>3</th>\n",
       "      <td>58.com Inc.</td>\n",
       "      <td>NYSE</td>\n",
       "      <td>2013.0</td>\n",
       "      <td>Computer Software: Programming, Data Processing</td>\n",
       "      <td>36.11</td>\n",
       "      <td>NaT</td>\n",
       "      <td>5.225238e+09</td>\n",
       "      <td>Technology</td>\n",
       "      <td>WUBA</td>\n",
       "    </tr>\n",
       "    <tr>\n",
       "      <th>4</th>\n",
       "      <td>A.H. Belo Corporation</td>\n",
       "      <td>NYSE</td>\n",
       "      <td>NaN</td>\n",
       "      <td>Newspapers/Magazines</td>\n",
       "      <td>6.20</td>\n",
       "      <td>NaT</td>\n",
       "      <td>1.347351e+08</td>\n",
       "      <td>Consumer Services</td>\n",
       "      <td>AHC</td>\n",
       "    </tr>\n",
       "  </tbody>\n",
       "</table>\n",
       "</div>"
      ],
      "text/plain": [
       "             Company Name Exchange  IPO Year  \\\n",
       "0  3D Systems Corporation     NYSE       NaN   \n",
       "1              3M Company     NYSE       NaN   \n",
       "2         500.com Limited     NYSE    2013.0   \n",
       "3             58.com Inc.     NYSE    2013.0   \n",
       "4   A.H. Belo Corporation     NYSE       NaN   \n",
       "\n",
       "                                          Industry  Last Sale Last Update  \\\n",
       "0          Computer Software: Prepackaged Software      14.48         NaT   \n",
       "1                       Medical/Dental Instruments     188.65         NaT   \n",
       "2            Services-Misc. Amusement & Recreation      13.96         NaT   \n",
       "3  Computer Software: Programming, Data Processing      36.11         NaT   \n",
       "4                             Newspapers/Magazines       6.20         NaT   \n",
       "\n",
       "   Market Capitalization             Sector Stock Symbol  \n",
       "0           1.647165e+09         Technology          DDD  \n",
       "1           1.127366e+11        Health Care          MMM  \n",
       "2           5.793129e+08  Consumer Services         WBAI  \n",
       "3           5.225238e+09         Technology         WUBA  \n",
       "4           1.347351e+08  Consumer Services          AHC  "
      ]
     },
     "execution_count": 5,
     "metadata": {},
     "output_type": "execute_result"
    }
   ],
   "source": [
    "# Sometimes we need to concat two dataframes into one.\n",
    "# Let's give that a shot here.\n",
    "\n",
    "# It's always safe to add Exchange reference columns, so that\n",
    "# we can recognize the file it was imported\n",
    "nyse['Exchange'] = 'NYSE'\n",
    "nasdaq['Exchange'] = 'NASDAQ'\n",
    "\n",
    "# Concatenate DataFrames  \n",
    "combined_listings = pd.concat([nyse, nasdaq]) \n",
    "\n",
    "# Let's take a look at the combined dataframe\n",
    "combined_listings.head()"
   ]
  },
  {
   "cell_type": "code",
   "execution_count": 6,
   "metadata": {},
   "outputs": [
    {
     "data": {
      "text/html": [
       "<div>\n",
       "<style scoped>\n",
       "    .dataframe tbody tr th:only-of-type {\n",
       "        vertical-align: middle;\n",
       "    }\n",
       "\n",
       "    .dataframe tbody tr th {\n",
       "        vertical-align: top;\n",
       "    }\n",
       "\n",
       "    .dataframe thead th {\n",
       "        text-align: right;\n",
       "    }\n",
       "</style>\n",
       "<table border=\"1\" class=\"dataframe\">\n",
       "  <thead>\n",
       "    <tr style=\"text-align: right;\">\n",
       "      <th></th>\n",
       "      <th>Stock Symbol</th>\n",
       "      <th>Company Name</th>\n",
       "      <th>Last Sale</th>\n",
       "      <th>Market Capitalization</th>\n",
       "      <th>IPO Year</th>\n",
       "      <th>Sector</th>\n",
       "      <th>Industry</th>\n",
       "    </tr>\n",
       "  </thead>\n",
       "  <tbody>\n",
       "    <tr>\n",
       "      <th>0</th>\n",
       "      <td>AAPL</td>\n",
       "      <td>Apple Inc.</td>\n",
       "      <td>141.05</td>\n",
       "      <td>7.400245e+11</td>\n",
       "      <td>1980.0</td>\n",
       "      <td>Technology</td>\n",
       "      <td>Computer Manufacturing</td>\n",
       "    </tr>\n",
       "    <tr>\n",
       "      <th>1</th>\n",
       "      <td>GOOGL</td>\n",
       "      <td>Alphabet Inc.</td>\n",
       "      <td>840.18</td>\n",
       "      <td>5.809175e+11</td>\n",
       "      <td>NaN</td>\n",
       "      <td>Technology</td>\n",
       "      <td>Computer Software: Programming, Data Processing</td>\n",
       "    </tr>\n",
       "    <tr>\n",
       "      <th>2</th>\n",
       "      <td>GOOG</td>\n",
       "      <td>Alphabet Inc.</td>\n",
       "      <td>823.56</td>\n",
       "      <td>5.694261e+11</td>\n",
       "      <td>2004.0</td>\n",
       "      <td>Technology</td>\n",
       "      <td>Computer Software: Programming, Data Processing</td>\n",
       "    </tr>\n",
       "    <tr>\n",
       "      <th>3</th>\n",
       "      <td>MSFT</td>\n",
       "      <td>Microsoft Corporation</td>\n",
       "      <td>64.95</td>\n",
       "      <td>5.019031e+11</td>\n",
       "      <td>1986.0</td>\n",
       "      <td>Technology</td>\n",
       "      <td>Computer Software: Prepackaged Software</td>\n",
       "    </tr>\n",
       "    <tr>\n",
       "      <th>4</th>\n",
       "      <td>AMZN</td>\n",
       "      <td>Amazon.com, Inc.</td>\n",
       "      <td>884.67</td>\n",
       "      <td>4.221385e+11</td>\n",
       "      <td>1997.0</td>\n",
       "      <td>Consumer Services</td>\n",
       "      <td>Catalog/Specialty Distribution</td>\n",
       "    </tr>\n",
       "  </tbody>\n",
       "</table>\n",
       "</div>"
      ],
      "text/plain": [
       "  Stock Symbol           Company Name  Last Sale  Market Capitalization  \\\n",
       "0         AAPL             Apple Inc.     141.05           7.400245e+11   \n",
       "1        GOOGL          Alphabet Inc.     840.18           5.809175e+11   \n",
       "2         GOOG          Alphabet Inc.     823.56           5.694261e+11   \n",
       "3         MSFT  Microsoft Corporation      64.95           5.019031e+11   \n",
       "4         AMZN       Amazon.com, Inc.     884.67           4.221385e+11   \n",
       "\n",
       "   IPO Year             Sector  \\\n",
       "0    1980.0         Technology   \n",
       "1       NaN         Technology   \n",
       "2    2004.0         Technology   \n",
       "3    1986.0         Technology   \n",
       "4    1997.0  Consumer Services   \n",
       "\n",
       "                                          Industry  \n",
       "0                           Computer Manufacturing  \n",
       "1  Computer Software: Programming, Data Processing  \n",
       "2  Computer Software: Programming, Data Processing  \n",
       "3          Computer Software: Prepackaged Software  \n",
       "4                   Catalog/Specialty Distribution  "
      ]
     },
     "execution_count": 6,
     "metadata": {},
     "output_type": "execute_result"
    }
   ],
   "source": [
    "# If we have a look at listings.xlsx we'll realize that there\n",
    "# are more sheets than only nyse. Let's get all of them.\n",
    "\n",
    "# Create pd.ExcelFile() object\n",
    "xls = pd.ExcelFile('data/listings.xlsx')\n",
    "\n",
    "# Extract sheet names and store in exchanges\n",
    "exchanges = xls.sheet_names\n",
    "\n",
    "# Create listings dictionary with all sheet data\n",
    "listings = pd.read_excel(xls, sheet_name=exchanges, na_values='n/a')\n",
    "\n",
    "# let's take a look at the head of all such dataframe\n",
    "listings['nasdaq'].head()"
   ]
  },
  {
   "cell_type": "code",
   "execution_count": 7,
   "metadata": {},
   "outputs": [
    {
     "data": {
      "text/html": [
       "<div>\n",
       "<style scoped>\n",
       "    .dataframe tbody tr th:only-of-type {\n",
       "        vertical-align: middle;\n",
       "    }\n",
       "\n",
       "    .dataframe tbody tr th {\n",
       "        vertical-align: top;\n",
       "    }\n",
       "\n",
       "    .dataframe thead th {\n",
       "        text-align: right;\n",
       "    }\n",
       "</style>\n",
       "<table border=\"1\" class=\"dataframe\">\n",
       "  <thead>\n",
       "    <tr style=\"text-align: right;\">\n",
       "      <th></th>\n",
       "      <th>Stock Symbol</th>\n",
       "      <th>Company Name</th>\n",
       "      <th>Last Sale</th>\n",
       "      <th>Market Capitalization</th>\n",
       "      <th>IPO Year</th>\n",
       "      <th>Sector</th>\n",
       "      <th>Industry</th>\n",
       "    </tr>\n",
       "  </thead>\n",
       "  <tbody>\n",
       "    <tr>\n",
       "      <th>0</th>\n",
       "      <td>DDD</td>\n",
       "      <td>3D Systems Corporation</td>\n",
       "      <td>14.48</td>\n",
       "      <td>1.647165e+09</td>\n",
       "      <td>NaN</td>\n",
       "      <td>Technology</td>\n",
       "      <td>Computer Software: Prepackaged Software</td>\n",
       "    </tr>\n",
       "    <tr>\n",
       "      <th>1</th>\n",
       "      <td>MMM</td>\n",
       "      <td>3M Company</td>\n",
       "      <td>188.65</td>\n",
       "      <td>1.127366e+11</td>\n",
       "      <td>NaN</td>\n",
       "      <td>Health Care</td>\n",
       "      <td>Medical/Dental Instruments</td>\n",
       "    </tr>\n",
       "    <tr>\n",
       "      <th>2</th>\n",
       "      <td>WBAI</td>\n",
       "      <td>500.com Limited</td>\n",
       "      <td>13.96</td>\n",
       "      <td>5.793129e+08</td>\n",
       "      <td>2013.0</td>\n",
       "      <td>Consumer Services</td>\n",
       "      <td>Services-Misc. Amusement &amp; Recreation</td>\n",
       "    </tr>\n",
       "    <tr>\n",
       "      <th>3</th>\n",
       "      <td>WUBA</td>\n",
       "      <td>58.com Inc.</td>\n",
       "      <td>36.11</td>\n",
       "      <td>5.225238e+09</td>\n",
       "      <td>2013.0</td>\n",
       "      <td>Technology</td>\n",
       "      <td>Computer Software: Programming, Data Processing</td>\n",
       "    </tr>\n",
       "    <tr>\n",
       "      <th>4</th>\n",
       "      <td>AHC</td>\n",
       "      <td>A.H. Belo Corporation</td>\n",
       "      <td>6.20</td>\n",
       "      <td>1.347351e+08</td>\n",
       "      <td>NaN</td>\n",
       "      <td>Consumer Services</td>\n",
       "      <td>Newspapers/Magazines</td>\n",
       "    </tr>\n",
       "  </tbody>\n",
       "</table>\n",
       "</div>"
      ],
      "text/plain": [
       "  Stock Symbol            Company Name  Last Sale  Market Capitalization  \\\n",
       "0          DDD  3D Systems Corporation      14.48           1.647165e+09   \n",
       "1          MMM              3M Company     188.65           1.127366e+11   \n",
       "2         WBAI         500.com Limited      13.96           5.793129e+08   \n",
       "3         WUBA             58.com Inc.      36.11           5.225238e+09   \n",
       "4          AHC   A.H. Belo Corporation       6.20           1.347351e+08   \n",
       "\n",
       "   IPO Year             Sector  \\\n",
       "0       NaN         Technology   \n",
       "1       NaN        Health Care   \n",
       "2    2013.0  Consumer Services   \n",
       "3    2013.0         Technology   \n",
       "4       NaN  Consumer Services   \n",
       "\n",
       "                                          Industry  \n",
       "0          Computer Software: Prepackaged Software  \n",
       "1                       Medical/Dental Instruments  \n",
       "2            Services-Misc. Amusement & Recreation  \n",
       "3  Computer Software: Programming, Data Processing  \n",
       "4                             Newspapers/Magazines  "
      ]
     },
     "execution_count": 7,
     "metadata": {},
     "output_type": "execute_result"
    }
   ],
   "source": [
    "listings['nyse'].head()"
   ]
  },
  {
   "cell_type": "code",
   "execution_count": 8,
   "metadata": {},
   "outputs": [
    {
     "data": {
      "text/html": [
       "<div>\n",
       "<style scoped>\n",
       "    .dataframe tbody tr th:only-of-type {\n",
       "        vertical-align: middle;\n",
       "    }\n",
       "\n",
       "    .dataframe tbody tr th {\n",
       "        vertical-align: top;\n",
       "    }\n",
       "\n",
       "    .dataframe thead th {\n",
       "        text-align: right;\n",
       "    }\n",
       "</style>\n",
       "<table border=\"1\" class=\"dataframe\">\n",
       "  <thead>\n",
       "    <tr style=\"text-align: right;\">\n",
       "      <th></th>\n",
       "      <th>Stock Symbol</th>\n",
       "      <th>Company Name</th>\n",
       "      <th>Last Sale</th>\n",
       "      <th>Market Capitalization</th>\n",
       "      <th>IPO Year</th>\n",
       "      <th>Sector</th>\n",
       "      <th>Industry</th>\n",
       "    </tr>\n",
       "  </thead>\n",
       "  <tbody>\n",
       "    <tr>\n",
       "      <th>0</th>\n",
       "      <td>XXII</td>\n",
       "      <td>22nd Century Group, Inc</td>\n",
       "      <td>1.3300</td>\n",
       "      <td>1.206285e+08</td>\n",
       "      <td>NaN</td>\n",
       "      <td>Consumer Non-Durables</td>\n",
       "      <td>Farming/Seeds/Milling</td>\n",
       "    </tr>\n",
       "    <tr>\n",
       "      <th>1</th>\n",
       "      <td>FAX</td>\n",
       "      <td>Aberdeen Asia-Pacific Income Fund Inc</td>\n",
       "      <td>5.0000</td>\n",
       "      <td>1.266333e+09</td>\n",
       "      <td>1986.0</td>\n",
       "      <td>NaN</td>\n",
       "      <td>NaN</td>\n",
       "    </tr>\n",
       "    <tr>\n",
       "      <th>2</th>\n",
       "      <td>IAF</td>\n",
       "      <td>Aberdeen Australia Equity Fund Inc</td>\n",
       "      <td>6.1500</td>\n",
       "      <td>1.398653e+08</td>\n",
       "      <td>NaN</td>\n",
       "      <td>NaN</td>\n",
       "      <td>NaN</td>\n",
       "    </tr>\n",
       "    <tr>\n",
       "      <th>3</th>\n",
       "      <td>CH</td>\n",
       "      <td>Aberdeen Chile Fund, Inc.</td>\n",
       "      <td>7.2201</td>\n",
       "      <td>6.756346e+07</td>\n",
       "      <td>NaN</td>\n",
       "      <td>NaN</td>\n",
       "      <td>NaN</td>\n",
       "    </tr>\n",
       "    <tr>\n",
       "      <th>4</th>\n",
       "      <td>ABE</td>\n",
       "      <td>Aberdeen Emerging Markets Smaller Company Oppo...</td>\n",
       "      <td>13.3600</td>\n",
       "      <td>1.288430e+08</td>\n",
       "      <td>NaN</td>\n",
       "      <td>NaN</td>\n",
       "      <td>NaN</td>\n",
       "    </tr>\n",
       "  </tbody>\n",
       "</table>\n",
       "</div>"
      ],
      "text/plain": [
       "     Stock Symbol                                       Company Name  \\\n",
       "0            XXII                            22nd Century Group, Inc   \n",
       "1             FAX              Aberdeen Asia-Pacific Income Fund Inc   \n",
       "2             IAF                 Aberdeen Australia Equity Fund Inc   \n",
       "3              CH                          Aberdeen Chile Fund, Inc.   \n",
       "4  ABE             Aberdeen Emerging Markets Smaller Company Oppo...   \n",
       "\n",
       "   Last Sale  Market Capitalization  IPO Year                 Sector  \\\n",
       "0     1.3300           1.206285e+08       NaN  Consumer Non-Durables   \n",
       "1     5.0000           1.266333e+09    1986.0                    NaN   \n",
       "2     6.1500           1.398653e+08       NaN                    NaN   \n",
       "3     7.2201           6.756346e+07       NaN                    NaN   \n",
       "4    13.3600           1.288430e+08       NaN                    NaN   \n",
       "\n",
       "                Industry  \n",
       "0  Farming/Seeds/Milling  \n",
       "1                    NaN  \n",
       "2                    NaN  \n",
       "3                    NaN  \n",
       "4                    NaN  "
      ]
     },
     "execution_count": 8,
     "metadata": {},
     "output_type": "execute_result"
    }
   ],
   "source": [
    "listings['amex'].head()"
   ]
  },
  {
   "cell_type": "code",
   "execution_count": 9,
   "metadata": {},
   "outputs": [
    {
     "name": "stdout",
     "output_type": "stream",
     "text": [
      "<class 'pandas.core.frame.DataFrame'>\n",
      "Int64Index: 6674 entries, 0 to 3146\n",
      "Data columns (total 8 columns):\n",
      "Stock Symbol             6674 non-null object\n",
      "Company Name             6674 non-null object\n",
      "Last Sale                6590 non-null float64\n",
      "Market Capitalization    6674 non-null float64\n",
      "IPO Year                 2852 non-null float64\n",
      "Sector                   5182 non-null object\n",
      "Industry                 5182 non-null object\n",
      "Exchange                 6674 non-null object\n",
      "dtypes: float64(3), object(5)\n",
      "memory usage: 469.3+ KB\n"
     ]
    },
    {
     "name": "stderr",
     "output_type": "stream",
     "text": [
      "/home/pb/github/datascience/Finance/Python/finance/local/lib/python2.7/site-packages/pandas/util/_decorators.py:118: FutureWarning: The `sheetname` keyword is deprecated, use `sheet_name` instead\n",
      "  return func(*args, **kwargs)\n"
     ]
    }
   ],
   "source": [
    "# Well now we have imported all the sheets into their \n",
    "# respective dataframe. Let's try to concat all of them\n",
    "# to a single dataframe. \n",
    "\n",
    "# Create the pd.ExcelFile() object\n",
    "xls = pd.ExcelFile('data/listings.xlsx')\n",
    "\n",
    "# Extract the sheet names from xls\n",
    "exchanges = xls.sheet_names\n",
    "\n",
    "# Create an empty list: listings\n",
    "listings = []\n",
    "\n",
    "# Import the data\n",
    "for exchange in exchanges:\n",
    "    listing = pd.read_excel(xls, sheetname=exchange, na_values='n/a')\n",
    "    listing['Exchange'] = exchange\n",
    "    listings.append(listing)\n",
    "\n",
    "# Concatenate the listings: listing_data\n",
    "listing_data = pd.concat(listings)\n",
    "\n",
    "# Inspect the results\n",
    "listing_data.info()"
   ]
  },
  {
   "cell_type": "code",
   "execution_count": 10,
   "metadata": {},
   "outputs": [
    {
     "name": "stdout",
     "output_type": "stream",
     "text": [
      "                   Company Name Exchange  Market Capitalization\n",
      "4              Amazon.com, Inc.   nasdaq           4.221385e+11\n",
      "3013      Wal-Mart Stores, Inc.     nyse           2.218646e+11\n",
      "3014  Walt Disney Company (The)     nyse           1.789973e+11\n",
      "6           Comcast Corporation   nasdaq           1.764745e+11\n",
      "1438     Home Depot, Inc. (The)     nyse           1.752626e+11\n"
     ]
    }
   ],
   "source": [
    "# Let's select companies in Consumer Services to narrow down the\n",
    "# data\n",
    "consumer_services = listing_data[\n",
    "    listing_data.Sector == 'Consumer Services']\n",
    "\n",
    "# Sort consumer_services by market cap\n",
    "consumer_services2 = consumer_services.sort_values(\n",
    "    'Market Capitalization', \n",
    "    ascending=False)\n",
    "\n",
    "# Display first 5 rows of designated columns\n",
    "print(\n",
    "    consumer_services2[[\n",
    "        'Company Name', \n",
    "        'Exchange', \n",
    "        'Market Capitalization']].head())"
   ]
  },
  {
   "cell_type": "markdown",
   "metadata": {},
   "source": [
    "Well, it turns out Amazon is the real winner with a market cap of $422 Billion. But most of the time we need to perform other manipulation and get the result programmatically. Let's do some manipulation and get the  largest consumer services company listed in 21st century."
   ]
  },
  {
   "cell_type": "code",
   "execution_count": 11,
   "metadata": {},
   "outputs": [
    {
     "data": {
      "image/png": "[encoded data removed]",
      "text/plain": [
       "<matplotlib.figure.Figure at 0x7fc443519b50>"
      ]
     },
     "metadata": {},
     "output_type": "display_data"
    }
   ],
   "source": [
    "listing_data = listing_data.set_index('Stock Symbol')\n",
    "\n",
    "\n",
    "ticker = listing_data.loc[\n",
    "    (listing_data.Sector == 'Consumer Services') \n",
    "    & \n",
    "    (listing_data['IPO Year'] > 1998),\n",
    "        'Market Capitalization'].idxmax()\n",
    "\n",
    "# Set the start date\n",
    "start = date(1998, 1, 1)\n",
    "\n",
    "# Import the stock data\n",
    "data = DataReader(ticker, 'google', start)\n",
    "\n",
    "# Plot Close and Volume\n",
    "data[['Close', 'Volume']].plot(secondary_y='Volume', title=ticker)\n",
    "\n",
    "# Show the plot\n",
    "plt.show()"
   ]
  },
  {
   "cell_type": "markdown",
   "metadata": {},
   "source": [
    "Let's look at DataReader to get our data from 'google', 'yahoo', and other web services."
   ]
  },
  {
   "cell_type": "code",
   "execution_count": 12,
   "metadata": {},
   "outputs": [
    {
     "name": "stdout",
     "output_type": "stream",
     "text": [
      "              Open    High     Low   Close    Volume\n",
      "Date                                                \n",
      "2017-01-03  115.80  116.33  114.76  116.15  28781865\n",
      "2017-01-04  115.85  116.51  115.75  116.02  21118116\n",
      "2017-01-05  115.92  116.86  115.81  116.61  22193587\n",
      "2017-01-06  116.78  118.16  116.47  117.91  31751900\n",
      "2017-01-09  117.95  119.43  117.94  118.99  33561948\n",
      "<class 'pandas.core.frame.DataFrame'>\n",
      "DatetimeIndex: 251 entries, 2017-01-03 to 2017-12-29\n",
      "Data columns (total 5 columns):\n",
      "Open      251 non-null float64\n",
      "High      251 non-null float64\n",
      "Low       251 non-null float64\n",
      "Close     251 non-null float64\n",
      "Volume    251 non-null int64\n",
      "dtypes: float64(4), int64(1)\n",
      "memory usage: 11.8 KB\n"
     ]
    }
   ],
   "source": [
    "# Set start and end dates\n",
    "start = date(2017, 1, 1)\n",
    "end = date(2017, 12, 31)\n",
    "\n",
    "# Set the ticker\n",
    "ticker = 'AAPL'\n",
    "\n",
    "# Set the data source\n",
    "data_source = 'google'\n",
    "\n",
    "# Import the stock prices\n",
    "stock_prices = DataReader(ticker, data_source, start, end)\n",
    "\n",
    "# Display and inspect the result\n",
    "print(stock_prices.head())\n",
    "stock_prices.info()"
   ]
  },
  {
   "cell_type": "code",
   "execution_count": 13,
   "metadata": {},
   "outputs": [
    {
     "data": {
      "image/png": "[encoded data removed]",
      "text/plain": [
       "<matplotlib.figure.Figure at 0x7fc44311b250>"
      ]
     },
     "metadata": {},
     "output_type": "display_data"
    }
   ],
   "source": [
    "# Let's plot the close price\n",
    "stock_prices['Close'].plot(title=ticker)\n",
    "plt.show()"
   ]
  },
  {
   "cell_type": "markdown",
   "metadata": {},
   "source": [
    "How about we also get some data from the FRED. "
   ]
  },
  {
   "cell_type": "code",
   "execution_count": 14,
   "metadata": {
    "scrolled": false
   },
   "outputs": [
    {
     "data": {
      "image/png": "[encoded data removed]",
      "text/plain": [
       "<matplotlib.figure.Figure at 0x7fc43fe3ff50>"
      ]
     },
     "metadata": {},
     "output_type": "display_data"
    }
   ],
   "source": [
    "# Set start date\n",
    "start = date(1968, 1, 1)\n",
    "\n",
    "series = 'GOLDAMGBD228NLBM'\n",
    "\n",
    "# Import the data\n",
    "gold_price = fred.get_series(series, start=start)\n",
    "\n",
    "# Plot the price of gold\n",
    "gold_price.plot(title='Gold Price')\n",
    "\n",
    "# Show the plot\n",
    "plt.show()"
   ]
  },
  {
   "cell_type": "code",
   "execution_count": 15,
   "metadata": {},
   "outputs": [
    {
     "data": {
      "image/png": "[encoded data removed]",
      "text/plain": [
       "<matplotlib.figure.Figure at 0x7fc443519e90>"
      ]
     },
     "metadata": {},
     "output_type": "display_data"
    }
   ],
   "source": [
    "# Well, Gold is on a role. Let's get some other data.\n",
    "\n",
    "# Import the data\n",
    "econ_data_unrate = pd.Series(fred.get_series('UNRATE'))\n",
    "econ_data_civpart = pd.Series(fred.get_series('CIVPART'))\n",
    "\n",
    "# Create dataframe from the data\n",
    "colNames = ['Unemployment Rate', 'Participation Rate']\n",
    "econ_data = pd.concat(\n",
    "    [econ_data_unrate, econ_data_civpart],\n",
    "    axis=1)\n",
    "\n",
    "# Assign new column labels\n",
    "econ_data.columns = ['Unemployment Rate', 'Participation Rate']\n",
    "\n",
    "# Plot econ_data\n",
    "econ_data.plot(subplots=True, title='Labor Market')\n",
    "\n",
    "# Show the plot\n",
    "plt.show()"
   ]
  },
  {
   "cell_type": "markdown",
   "metadata": {},
   "source": [
    "That's it for now. We will do more on financial data analysis later!\n"
   ]
  }
 ],
 "metadata": {
  "kernelspec": {
   "display_name": "finance",
   "language": "python",
   "name": "finance"
  },
  "language_info": {
   "codemirror_mode": {
    "name": "ipython",
    "version": 2
   },
   "file_extension": ".py",
   "mimetype": "text/x-python",
   "name": "python",
   "nbconvert_exporter": "python",
   "pygments_lexer": "ipython2",
   "version": "2.7.6"
  }
 },
 "nbformat": 4,
 "nbformat_minor": 2
}
